{
 "cells": [
  {
   "cell_type": "code",
   "execution_count": 97,
   "metadata": {
    "collapsed": false
   },
   "outputs": [],
   "source": [
    "from twitter import *\n",
    "import requests\n",
    "import oauth2\n",
    "import json\n",
    "import csv\n",
    "from time import sleep"
   ]
  },
  {
   "cell_type": "code",
   "execution_count": 98,
   "metadata": {
    "collapsed": false
   },
   "outputs": [],
   "source": [
    "ACCESS_TOKEN = '483632966-0Zs2bb4qSKSEeawUg0w9GvxXZJcP7ZQJSKqrKEFP'\n",
    "ACCESS_SECRET = 'iZMdKWHXOT8Bt3JNvwaFMt8iNVgaCC53SsbEeb6J0FKj1'\n",
    "CONSUMER_KEY = 'SWczKCuFphGCUI9NjUUs2sKwT'\n",
    "CONSUMER_SECRET = 'cflgqndF163BqlVD2PTtOjnF8QSS91FoyoH0KIzGPD95UQPR2s'"
   ]
  },
  {
   "cell_type": "code",
   "execution_count": 99,
   "metadata": {
    "collapsed": false
   },
   "outputs": [],
   "source": [
    "#retrieve old tweets first\n",
    "consumer = oauth2.Consumer(key = CONSUMER_KEY, secret = CONSUMER_SECRET)\n",
    "access_token = oauth2.Token(key = ACCESS_TOKEN, secret = ACCESS_SECRET)\n",
    "client = oauth2.Client(consumer, access_token)"
   ]
  },
  {
   "cell_type": "code",
   "execution_count": 100,
   "metadata": {
    "collapsed": false
   },
   "outputs": [],
   "source": [
    "#for live streaming/responses\n",
    "#oauth = OAuth(ACCESS_TOKEN, ACCESS_SECRET, CONSUMER_KEY, CONSUMER_SECRET)\n",
    "#twitter_stream = TwitterStream(auth=oauth)\n"
   ]
  },
  {
   "cell_type": "code",
   "execution_count": 156,
   "metadata": {
    "collapsed": false
   },
   "outputs": [],
   "source": [
    "resource_url = \"https://api.twitter.com/1.1/statuses/home_timeline.json?count=800\"\n",
    "response, data = client.request(resource_url)"
   ]
  },
  {
   "cell_type": "code",
   "execution_count": 157,
   "metadata": {
    "collapsed": false
   },
   "outputs": [],
   "source": [
    "tweets = json.loads(data)"
   ]
  },
  {
   "cell_type": "code",
   "execution_count": 151,
   "metadata": {
    "collapsed": false
   },
   "outputs": [],
   "source": [
    "\n",
    "#each tweet is a dictionary containing the tweet's details\n",
    "#tweets itself is a list of dictoinaries\n",
    "\"\"\"for tweet in tweets:\n",
    "    if tweet['retweet_count'] > 10:\n",
    "        del tweets[tweets.index(tweet)] \n",
    "\"\"\"\n",
    "good_tweets = []\n",
    "for tweet in tweets:\n",
    "    if not tweet['retweeted'] and 'RT @' not in tweet['text']:\n",
    "        good_tweets.append(tweet)"
   ]
  },
  {
   "cell_type": "code",
   "execution_count": 174,
   "metadata": {
    "collapsed": false
   },
   "outputs": [
    {
     "name": "stdout",
     "output_type": "stream",
     "text": [
      "Booty: Wow 😯 https://t.co/MXPXiBHWrV\n",
      "YegorGorbenko: I need lifetime supply of tortilla chips with a hint of lime\n",
      "gabeydeezy: Anyone tryna hit Applebee's for happy hour?¿\n",
      "DMerccinDabs: everyone now hates Kevin durant except for golden state fans.\n",
      "_collin_porter_: @SlipperySteve5 that's sick! I'm pumped to hear what you got\n",
      "faggotabbott: okay im crying https://t.co/YNNHPLKkBP\n",
      "Earthlmages: Earth is a wonderful place https://t.co/2KfRaSPb4G\n",
      "SlipperySteve5: Going to begin following my dream of talking to myself for a living and start my own sports/pop culture podcast. Stay tuned...👀\n",
      "CoIlegefessions: \"I went on 3 sushi dates within one week beause I'm a broke college kid and if a guy offers to pay for sushi I'm in.\" - U of New Haven\n",
      "lindseyykay_: who's down to do a ouija board with me..\n",
      "bnigzzz: God I love laundry\n",
      "Forbes: 'Hamilton' isn't the 1st Broadway hit to be inspired by a book—or the most successful. https://t.co/HFXxdprnE5 https://t.co/cORWBABqyl\n",
      "brookevader: Wasn't ready for this one https://t.co/yZNjspag79\n",
      "SlipperySteve5: This tweet has more applicable knowledge than anything I've ever learned in school  https://t.co/REIH6iCI9g\n",
      "claud_squad_22: A bunch of my boss' Russian friends came in while he was nowhere to be found and none of them spoke any English 😅 #wellthatwasfun\n",
      "CharlesDynasty_: Pogba should go to Madrid so that we get a chance to sign Kroos\n",
      "supilikecats: It's summer and I'm always kind of sweaty and I kind of hate it\n",
      "supilikecats: A Facebook poke is The Office equivalent to Michael &amp; Jim placing beans on ppls faces to try to figure out who gets a raise &amp; who doesn't\n",
      "Forbes: How this Egyptian entrepreneur pulled off a $668 million IPO: https://t.co/ufYOVu4TBn https://t.co/HfvCEag82N\n",
      "YegorGorbenko: You know I be \n",
      "Duckin every hoe I see\n",
      "SaharaDip: Really hard sticking to healthy eating and workout plans 🙄\n",
      "MatthewHanna23: It's crazy how life can throw random people in your life that you end up having unconditional love for.\n",
      "Hadiya_A: could someone bring me cotton candy grapes bc I can't find them anywhere &amp; im dying\n",
      "Booty: Katy Perry is perfect https://t.co/k0op4I7dI6\n",
      "lifewithsole: @lifewithsole got another week of 10ks and still going strong lmao 💪🏽 https://t.co/W9xC0KcdFP\n",
      "Forbes: BlackBerry will no longer manufacture the BlackBerry Classic, and other news: https://t.co/xkbbB9Hpsc https://t.co/SNBWLSbHNf\n",
      "omgceejay: I wish my car can last this long without breaking down... But happy 17 months babe😘 #wce https://t.co/1MScJrYeQX\n",
      "Justinkennedy_: It's over  https://t.co/sBN1fz68W3\n",
      "hotlamp: National kissing day and my bf lives in Canada this is me at the border https://t.co/Xnqoe5TtCO\n",
      "AshleyM_13: \"It's been a long time coming but I know a change gonna come\"\n",
      "CoIlegefessions: \"Decided to come home and surprise my girlfriend. I think I was more surprised seeing her in bed with her boss.\" - USMC\n",
      "SteveOlson14: 🙏🏻🙏🏻🙏🏻🙏🏻🙏🏻 https://t.co/7UA75C2Rwp\n",
      "Hunter_Hammond: The truth is rarely pure and never simple...\n",
      "YavorskaDariya: Actually didn't expect myself to be so disappointed that I had to drop my classes :(\n",
      "MelLeo3: BEST way to end my night❤️ miss you way too much:(  https://t.co/8T9BlMCvLP\n",
      "YegorGorbenko: Fuccc that duude..  No respect for pigs\n",
      "Forbes: A 2nd possible Tesla Autopilot crash is now under investigation: https://t.co/rwwhHyd9xo https://t.co/b7VaBlAalh\n",
      "caseymac1996: Face timing with @MelLeo3 makes me miss her even more. Come back to America!!! ❤️\n",
      "aliviaktaylor: I love the people I'm growing up with\n",
      "anwarkaifa: I'm chillin. https://t.co/hMwubCHqAG\n",
      "Chase_pears: Colton Whitehead...what a writer 🙌🏻 https://t.co/vaU4WvVDRo\n",
      "Chloe_marieeee: I always crave Red Robin on my days off 🙄 you'd think I'd be sick of it.\n",
      "MorganDalen: https://t.co/z9DYfQnhN6\n",
      "CossLeila: Always necessary in the burg 😋 https://t.co/u0Flk5sVlu\n",
      "Forbes: Study: Recreational cannabis use may damage the brain’s response to monetary rewards https://t.co/i7NpfVbVz2 https://t.co/UnTNQK53na\n",
      "SSauf32: Sitting in the sauna is always the move\n",
      "CoIlegefessions: \"College is a delicate balance between trying to get high school student discounts and getting into the bars.\" - Hope\n",
      "Hadiya_A: why is it so hard to get a job\n",
      "Booty: unffff https://t.co/uX5IFRbYwB\n",
      "instagram: The edible gems of poetry lover Chika https://t.co/fC4j1QoI72\n",
      "sellsyboy: I voted for @StephenCurry30 to win #BestMaleAthlete at the @ESPYS. Visit https://t.co/fAew3qsrRd for all categories. https://t.co/uzQ1p1tJzN\n",
      "Forbes: Shoes instead of a college degree? See if it's worth it: https://t.co/Rzgno60Bpo #TopColleges https://t.co/O9N4m5CqND\n",
      "aliviaktaylor: Farewell to an amazing person I was lucky enough to get to know this year, hope to see u soon u beautiful girl🍍💓 https://t.co/Gv6RNgEvPH\n",
      "claud_squad_22: When your paycheck is MUCH more than you expected because you didn't know you were being paid above minimum wage 😂😂\n",
      "IMKARANCHANDI: Future is probably somewhere sippin lean and plottin rn 😂\n",
      "Earthlmages: Colorado is such eye candy 😍😍 https://t.co/ahJVMvI04P\n",
      "Forbes: Google is investing $30 million in a startup that's building the camera of the future https://t.co/s8zcdJ2rRr https://t.co/dBEY1xVOHi\n",
      "kbisch23: When you still manage to shop for watershed w @SydneySoares3\n",
      "gatesfoundation: How could we save nearly 5,000,000 lives by 2030? https://t.co/pHhYr6HgU0\n",
      "Rezzerr: Saw a boy 6-8 years old wearing a fitbit.\n",
      "#TheFutureIsNow\n",
      "ChandlerWoolley: Everyone deserves someone who is genuinely infatuated with them, don't waste your time with someone who isn't\n",
      "Forbes: How the Co-CEOs of Warby Parker set their sights on success and impact\n",
      "https://t.co/82EOxEIBfH https://t.co/BBplQk4FgU\n",
      "helloooobritt: I just want a flat stomach :/\n",
      "DMerccinDabs: MIKE CONLEY BALLIN TF OUT WHAT THE ACTUAL FUCK. THIS NIGGA IS NOT WORTH A DAMN NEAR DOLLAR A SECOND TO PLAY BALL. https://t.co/a3KDghCUnk\n",
      "Sophie_Shelton_: I'll stop the world and melt with you\n",
      "Booty: dat cheerleader booty 😍 https://t.co/yKEKPROH2w\n",
      "chowthedude: can't wait to scrim again ranked is aids\n",
      "Forbes: 85% of students from these #TopColleges graduated on a 6 year scale: https://t.co/U9LGzwgGHg https://t.co/Rk33T6ELnt\n",
      "sellsyboy: Hey\n",
      "DiHardo17: Being on the water is so calming 🌊\n",
      "CarsenHambrecht: If you know Laurie don't forget to wish her a happy birthday\n",
      "chowthedude: @__@\n",
      "bpattttt: https://t.co/sdBJqhcqI0\n",
      "DinaaSpeaks: I could put you down on some gangster shit.\n",
      "sabrina_leahu: Guys are more complicated then they make themselves out to be\n"
     ]
    }
   ],
   "source": [
    "for tweet in good_tweets:\n",
    "    print tweet['user']['screen_name']+': '+tweet['text']\n",
    "    "
   ]
  },
  {
   "cell_type": "code",
   "execution_count": 180,
   "metadata": {
    "collapsed": false
   },
   "outputs": [
    {
     "data": {
      "text/plain": [
       "{u'contributors': None,\n",
       " u'coordinates': None,\n",
       " u'created_at': u'Thu Jul 07 00:13:57 +0000 2016',\n",
       " u'entities': {u'hashtags': [],\n",
       "  u'symbols': [],\n",
       "  u'urls': [],\n",
       "  u'user_mentions': []},\n",
       " u'favorite_count': 0,\n",
       " u'favorited': False,\n",
       " u'geo': None,\n",
       " u'id': 750845273350426625L,\n",
       " u'id_str': u'750845273350426625',\n",
       " u'in_reply_to_screen_name': None,\n",
       " u'in_reply_to_status_id': None,\n",
       " u'in_reply_to_status_id_str': None,\n",
       " u'in_reply_to_user_id': None,\n",
       " u'in_reply_to_user_id_str': None,\n",
       " u'is_quote_status': False,\n",
       " u'lang': u'en',\n",
       " u'place': {u'attributes': {},\n",
       "  u'bounding_box': {u'coordinates': [[[-122.234054, 47.860402],\n",
       "     [-122.14427, 47.860402],\n",
       "     [-122.14427, 47.9218236],\n",
       "     [-122.234054, 47.9218236]]],\n",
       "   u'type': u'Polygon'},\n",
       "  u'contained_within': [],\n",
       "  u'country': u'United States',\n",
       "  u'country_code': u'US',\n",
       "  u'full_name': u'Eastmont, WA',\n",
       "  u'id': u'002d396055a6adf8',\n",
       "  u'name': u'Eastmont',\n",
       "  u'place_type': u'city',\n",
       "  u'url': u'https://api.twitter.com/1.1/geo/id/002d396055a6adf8.json'},\n",
       " u'retweet_count': 0,\n",
       " u'retweeted': False,\n",
       " u'source': u'<a href=\"http://twitter.com/download/iphone\" rel=\"nofollow\">Twitter for iPhone</a>',\n",
       " u'text': u'I need lifetime supply of tortilla chips with a hint of lime',\n",
       " u'truncated': False,\n",
       " u'user': {u'contributors_enabled': False,\n",
       "  u'created_at': u'Thu Sep 29 04:41:54 +0000 2011',\n",
       "  u'default_profile': True,\n",
       "  u'default_profile_image': False,\n",
       "  u'description': u\"Scholar & Baller | 1317 |OTF|{326} I'm workin everyday craftin' | Jackson Alumni | God got a plan | not just a regular civilian |\",\n",
       "  u'entities': {u'description': {u'urls': []},\n",
       "   u'url': {u'urls': [{u'display_url': u'WeDontMiss.com',\n",
       "      u'expanded_url': u'http://WeDontMiss.com',\n",
       "      u'indices': [0, 23],\n",
       "      u'url': u'https://t.co/JCzNpW08R7'}]}},\n",
       "  u'favourites_count': 11355,\n",
       "  u'follow_request_sent': False,\n",
       "  u'followers_count': 1112,\n",
       "  u'following': True,\n",
       "  u'friends_count': 326,\n",
       "  u'geo_enabled': True,\n",
       "  u'has_extended_profile': True,\n",
       "  u'id': 381910327,\n",
       "  u'id_str': u'381910327',\n",
       "  u'is_translation_enabled': False,\n",
       "  u'is_translator': False,\n",
       "  u'lang': u'en',\n",
       "  u'listed_count': 5,\n",
       "  u'location': u'Snap - yegorbenko',\n",
       "  u'name': u'\\xa5\\xa3GG\\u0178',\n",
       "  u'notifications': False,\n",
       "  u'profile_background_color': u'C0DEED',\n",
       "  u'profile_background_image_url': u'http://abs.twimg.com/images/themes/theme1/bg.png',\n",
       "  u'profile_background_image_url_https': u'https://abs.twimg.com/images/themes/theme1/bg.png',\n",
       "  u'profile_background_tile': False,\n",
       "  u'profile_banner_url': u'https://pbs.twimg.com/profile_banners/381910327/1454524999',\n",
       "  u'profile_image_url': u'http://pbs.twimg.com/profile_images/645707850669363200/S2m9uzd2_normal.jpg',\n",
       "  u'profile_image_url_https': u'https://pbs.twimg.com/profile_images/645707850669363200/S2m9uzd2_normal.jpg',\n",
       "  u'profile_link_color': u'0084B4',\n",
       "  u'profile_sidebar_border_color': u'C0DEED',\n",
       "  u'profile_sidebar_fill_color': u'DDEEF6',\n",
       "  u'profile_text_color': u'333333',\n",
       "  u'profile_use_background_image': True,\n",
       "  u'protected': False,\n",
       "  u'screen_name': u'YegorGorbenko',\n",
       "  u'statuses_count': 28505,\n",
       "  u'time_zone': u'Arizona',\n",
       "  u'url': u'https://t.co/JCzNpW08R7',\n",
       "  u'utc_offset': -25200,\n",
       "  u'verified': False}}"
      ]
     },
     "execution_count": 180,
     "metadata": {},
     "output_type": "execute_result"
    }
   ],
   "source": [
    "good_tweets[1]"
   ]
  },
  {
   "cell_type": "code",
   "execution_count": null,
   "metadata": {
    "collapsed": true
   },
   "outputs": [],
   "source": []
  }
 ],
 "metadata": {
  "kernelspec": {
   "display_name": "Python [Root]",
   "language": "python",
   "name": "Python [Root]"
  },
  "language_info": {
   "codemirror_mode": {
    "name": "ipython",
    "version": 2
   },
   "file_extension": ".py",
   "mimetype": "text/x-python",
   "name": "python",
   "nbconvert_exporter": "python",
   "pygments_lexer": "ipython2",
   "version": "2.7.11"
  }
 },
 "nbformat": 4,
 "nbformat_minor": 0
}
